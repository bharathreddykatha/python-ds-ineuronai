{
 "cells": [
  {
   "cell_type": "markdown",
   "metadata": {},
   "source": [
    "I have installed Jupyter Notebbok while the first session with Sudhanshu and tried some coding but as of now that file is not available as i havent saved it."
   ]
  },
  {
   "cell_type": "code",
   "execution_count": 1,
   "metadata": {},
   "outputs": [
    {
     "name": "stdout",
     "output_type": "stream",
     "text": [
      "[2002, 2009, 2016, 2023, 2037, 2044, 2051, 2058, 2072, 2079, 2086, 2093, 2107, 2114, 2121, 2128, 2142, 2149, 2156, 2163, 2177, 2184, 2191, 2198, 2212, 2219, 2226, 2233, 2247, 2254, 2261, 2268, 2282, 2289, 2296, 2303, 2317, 2324, 2331, 2338, 2352, 2359, 2366, 2373, 2387, 2394, 2401, 2408, 2422, 2429, 2436, 2443, 2457, 2464, 2471, 2478, 2492, 2499, 2506, 2513, 2527, 2534, 2541, 2548, 2562, 2569, 2576, 2583, 2597, 2604, 2611, 2618, 2632, 2639, 2646, 2653, 2667, 2674, 2681, 2688, 2702, 2709, 2716, 2723, 2737, 2744, 2751, 2758, 2772, 2779, 2786, 2793, 2807, 2814, 2821, 2828, 2842, 2849, 2856, 2863, 2877, 2884, 2891, 2898, 2912, 2919, 2926, 2933, 2947, 2954, 2961, 2968, 2982, 2989, 2996, 3003, 3017, 3024, 3031, 3038, 3052, 3059, 3066, 3073, 3087, 3094, 3101, 3108, 3122, 3129, 3136, 3143, 3157, 3164, 3171, 3178, 3192, 3199]\n"
     ]
    }
   ],
   "source": [
    "'''Write a program which will find all such numbers which are divisible by 7 but are not a multiple\n",
    "of 5, between 2000 and 3200 (both included). The numbers obtained should be printed in a\n",
    "comma-separated sequence on a single line'''\n",
    "\n",
    "a=list(range(2000,3200))\n",
    "b=[]\n",
    "for i in a:\n",
    "    if (i%7==0) & (i%5!=0):\n",
    "        b.append(i)    \n",
    "    \n",
    "else :\n",
    "    print(b)"
   ]
  },
  {
   "cell_type": "code",
   "execution_count": 2,
   "metadata": {},
   "outputs": [
    {
     "name": "stdout",
     "output_type": "stream",
     "text": [
      "Please enter FirstName:a\n",
      "Please enter LastName:c\n",
      "c a\n"
     ]
    }
   ],
   "source": [
    "'''Write a Python program to accept the users first and last name and then getting them printed in\n",
    "the the reverse order with a space between first name and last name.'''\n",
    "\n",
    "firstname=input(\"Please enter FirstName:\")\n",
    "lastname= str(input('Please enter LastName:'))\n",
    "print(lastname + ' ' + firstname)"
   ]
  },
  {
   "cell_type": "code",
   "execution_count": 3,
   "metadata": {},
   "outputs": [
    {
     "name": "stdout",
     "output_type": "stream",
     "text": [
      "904.3199999999999\n"
     ]
    }
   ],
   "source": [
    "'''Write a Python program to find the volume of a sphere with diameter 12 cm.\n",
    "Formula: V=4/3 * π * r3'''\n",
    "\n",
    "diameter=12\n",
    "radius=diameter/2\n",
    "pi=3.14\n",
    "volume=4/3*(pi)*(radius*radius*radius)\n",
    "print(volume)"
   ]
  },
  {
   "cell_type": "code",
   "execution_count": 4,
   "metadata": {},
   "outputs": [
    {
     "name": "stdout",
     "output_type": "stream",
     "text": [
      "1,2,3\n",
      "['1', '2', '3']\n"
     ]
    }
   ],
   "source": [
    "'''Write a program which accepts a sequence of comma-separated numbers from console and\n",
    "generate a list'''\n",
    "\n",
    "k=input()\n",
    "l=k.split(',')\n",
    "print(l)"
   ]
  },
  {
   "cell_type": "code",
   "execution_count": 5,
   "metadata": {},
   "outputs": [
    {
     "name": "stdout",
     "output_type": "stream",
     "text": [
      "Please provide a word:Katha Bharath\n",
      "htarahB ahtaK\n"
     ]
    }
   ],
   "source": [
    "'''Write a Python program to reverse a word after accepting the input from the user.'''\n",
    "\n",
    "input_=input('Please provide a word:')\n",
    "input_rev=input_[::-1]\n",
    "print(input_rev)"
   ]
  },
  {
   "cell_type": "code",
   "execution_count": 7,
   "metadata": {},
   "outputs": [
    {
     "name": "stdout",
     "output_type": "stream",
     "text": [
      "* \r\n",
      "* * \r\n",
      "* * * \r\n",
      "* * * * \r\n",
      "* * * * * \r\n",
      "* * * * \r\n",
      "* * * \r\n",
      "* * \r\n",
      "* \r\n",
      "\r\n"
     ]
    }
   ],
   "source": [
    "'''Create the below pattern using nested for loop in Python.'''\n",
    "\n",
    "n =5\n",
    "for i in range(0, n):\n",
    "    for j in range(0, i + 1):\n",
    "        print(\"*\", end=' ')\n",
    "    print(\"\\r\")\n",
    "\n",
    "for i in range(n, 0, -1):\n",
    "    for j in range(0, i - 1):\n",
    "        print(\"*\", end=' ')\n",
    "    print(\"\\r\")"
   ]
  },
  {
   "cell_type": "code",
   "execution_count": 8,
   "metadata": {},
   "outputs": [
    {
     "name": "stdout",
     "output_type": "stream",
     "text": [
      "WE, THE PEOPLE OF INDIA, \n",
      " \t having solemnly resolved to constitute India into a SOVEREIGN,! \n",
      " \t \t SOCIALIST, SECULAR, DEMOCRATIC REPUBLIC \n",
      " \t \t and to secure to all its citizens\n"
     ]
    }
   ],
   "source": [
    "'''Write a Python Program to print the given string in the format specified'''\n",
    "\n",
    "sentence='WE, THE PEOPLE OF INDIA, \\n \\t having solemnly resolved to constitute India into a SOVEREIGN,! \\n \\t \\t SOCIALIST, SECULAR, DEMOCRATIC REPUBLIC \\n \\t \\t and to secure to all its citizens'\n",
    "print(sentence)"
   ]
  }
 ],
 "metadata": {
  "kernelspec": {
   "display_name": "Python 3",
   "language": "python",
   "name": "python3"
  },
  "language_info": {
   "codemirror_mode": {
    "name": "ipython",
    "version": 3
   },
   "file_extension": ".py",
   "mimetype": "text/x-python",
   "name": "python",
   "nbconvert_exporter": "python",
   "pygments_lexer": "ipython3",
   "version": "3.7.6"
  }
 },
 "nbformat": 4,
 "nbformat_minor": 4
}
